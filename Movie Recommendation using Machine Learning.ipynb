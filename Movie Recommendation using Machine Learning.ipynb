{
 "cells": [
  {
   "cell_type": "code",
   "execution_count": 9,
   "metadata": {},
   "outputs": [
    {
     "ename": "AttributeError",
     "evalue": "'DataFrame' object has no attribute 'data'",
     "output_type": "error",
     "traceback": [
      "\u001b[1;31m---------------------------------------------------------------------------\u001b[0m",
      "\u001b[1;31mAttributeError\u001b[0m                            Traceback (most recent call last)",
      "\u001b[1;32m<ipython-input-9-53ae1c5c88f2>\u001b[0m in \u001b[0;36m<module>\u001b[1;34m\u001b[0m\n\u001b[0;32m     11\u001b[0m \u001b[1;33m\u001b[0m\u001b[0m\n\u001b[0;32m     12\u001b[0m \u001b[1;31m#converting into data into dataframe to view it using pandas library\u001b[0m\u001b[1;33m\u001b[0m\u001b[1;33m\u001b[0m\u001b[1;33m\u001b[0m\u001b[0m\n\u001b[1;32m---> 13\u001b[1;33m \u001b[0mdf\u001b[0m \u001b[1;33m=\u001b[0m \u001b[0mpd\u001b[0m\u001b[1;33m.\u001b[0m\u001b[0mDataFrame\u001b[0m\u001b[1;33m(\u001b[0m\u001b[0mdataset\u001b[0m\u001b[1;33m.\u001b[0m\u001b[0mdata\u001b[0m\u001b[1;33m)\u001b[0m\u001b[1;33m\u001b[0m\u001b[1;33m\u001b[0m\u001b[0m\n\u001b[0m\u001b[0;32m     14\u001b[0m \u001b[1;33m\u001b[0m\u001b[0m\n\u001b[0;32m     15\u001b[0m \u001b[1;31m#Define X and y variable\u001b[0m\u001b[1;33m\u001b[0m\u001b[1;33m\u001b[0m\u001b[1;33m\u001b[0m\u001b[0m\n",
      "\u001b[1;32m~\\anaconda3\\lib\\site-packages\\pandas\\core\\generic.py\u001b[0m in \u001b[0;36m__getattr__\u001b[1;34m(self, name)\u001b[0m\n\u001b[0;32m   5272\u001b[0m             \u001b[1;32mif\u001b[0m \u001b[0mself\u001b[0m\u001b[1;33m.\u001b[0m\u001b[0m_info_axis\u001b[0m\u001b[1;33m.\u001b[0m\u001b[0m_can_hold_identifiers_and_holds_name\u001b[0m\u001b[1;33m(\u001b[0m\u001b[0mname\u001b[0m\u001b[1;33m)\u001b[0m\u001b[1;33m:\u001b[0m\u001b[1;33m\u001b[0m\u001b[1;33m\u001b[0m\u001b[0m\n\u001b[0;32m   5273\u001b[0m                 \u001b[1;32mreturn\u001b[0m \u001b[0mself\u001b[0m\u001b[1;33m[\u001b[0m\u001b[0mname\u001b[0m\u001b[1;33m]\u001b[0m\u001b[1;33m\u001b[0m\u001b[1;33m\u001b[0m\u001b[0m\n\u001b[1;32m-> 5274\u001b[1;33m             \u001b[1;32mreturn\u001b[0m \u001b[0mobject\u001b[0m\u001b[1;33m.\u001b[0m\u001b[0m__getattribute__\u001b[0m\u001b[1;33m(\u001b[0m\u001b[0mself\u001b[0m\u001b[1;33m,\u001b[0m \u001b[0mname\u001b[0m\u001b[1;33m)\u001b[0m\u001b[1;33m\u001b[0m\u001b[1;33m\u001b[0m\u001b[0m\n\u001b[0m\u001b[0;32m   5275\u001b[0m \u001b[1;33m\u001b[0m\u001b[0m\n\u001b[0;32m   5276\u001b[0m     \u001b[1;32mdef\u001b[0m \u001b[0m__setattr__\u001b[0m\u001b[1;33m(\u001b[0m\u001b[0mself\u001b[0m\u001b[1;33m,\u001b[0m \u001b[0mname\u001b[0m\u001b[1;33m:\u001b[0m \u001b[0mstr\u001b[0m\u001b[1;33m,\u001b[0m \u001b[0mvalue\u001b[0m\u001b[1;33m)\u001b[0m \u001b[1;33m->\u001b[0m \u001b[1;32mNone\u001b[0m\u001b[1;33m:\u001b[0m\u001b[1;33m\u001b[0m\u001b[1;33m\u001b[0m\u001b[0m\n",
      "\u001b[1;31mAttributeError\u001b[0m: 'DataFrame' object has no attribute 'data'"
     ]
    }
   ],
   "source": [
    "import pandas as pd\n",
    "from sklearn.linear_model import LogisticRegression\n",
    "import numpy as np\n",
    "import seaborn as sns\n",
    "from sklearn import metrics\n",
    "from sklearn.model_selection import train_test_split\n",
    "#mport matlplotlib.pyplot as plt\n",
    "\n",
    "#feeding the data into a new variable\n",
    "dataset = pd.read_csv(r'C:\\Users\\Sangram\\Downloads\\IMDB-Dataset\\movies.csv')\n",
    "\n",
    "#converting into data into dataframe to view it using pandas library \n",
    "df = pd.DataFrame(dataset.data)\n",
    "\n",
    "#Define X and y variable\n",
    "X = dataset[\"data\"]\n",
    "y = dataset[\"target\"]\n",
    "\n",
    "#Split into train and test data\n",
    "X_train, X_test, y_train, y_test = train_test_split(X, y, test_size=0.2, random_state=0)\n",
    "\n",
    "#Applying Logistic Regression algorithm/model\n",
    "clf = LogisticRegression()\n",
    "\n",
    "#fitting the model\n",
    "reg.fit(X_train, y_train)\n",
    "reg.fit(X_test, y_test)\n",
    "\n",
    "# Predicting the Test and train\n",
    "y_pred = reg.predict(X_test)\n",
    "y_pred1 = reg.predict(X_train)\n",
    "\n",
    "#Score for our model\n",
    "print(\"\\nAccuracy of the testing dataset : \",metrics.accuracy_score(y_test, y_pred)*100)\n",
    "print(\"Accuracy of the training dataset: \",metrics.accuracy_score(y_train, y_pred1)*100)\n",
    "\n",
    "\n",
    "\n"
   ]
  },
  {
   "cell_type": "code",
   "execution_count": 7,
   "metadata": {},
   "outputs": [
    {
     "name": "stdout",
     "output_type": "stream",
     "text": [
      "        movieId                               title  \\\n",
      "0           1.0                    Toy Story (1995)   \n",
      "1           2.0                      Jumanji (1995)   \n",
      "2           3.0             Grumpier Old Men (1995)   \n",
      "3           4.0            Waiting to Exhale (1995)   \n",
      "4           5.0  Father of the Bride Part II (1995)   \n",
      "...         ...                                 ...   \n",
      "105334      NaN                                 NaN   \n",
      "105335      NaN                                 NaN   \n",
      "105336      NaN                                 NaN   \n",
      "105337      NaN                                 NaN   \n",
      "105338      NaN                                 NaN   \n",
      "\n",
      "                                             genres  Unnamed: 3  Unnamed: 4  \\\n",
      "0       Adventure|Animation|Children|Comedy|Fantasy         NaN         NaN   \n",
      "1                        Adventure|Children|Fantasy         NaN         NaN   \n",
      "2                                    Comedy|Romance         NaN         NaN   \n",
      "3                              Comedy|Drama|Romance         NaN         NaN   \n",
      "4                                            Comedy         NaN         NaN   \n",
      "...                                             ...         ...         ...   \n",
      "105334                                          NaN         NaN         NaN   \n",
      "105335                                          NaN         NaN         NaN   \n",
      "105336                                          NaN         NaN         NaN   \n",
      "105337                                          NaN         NaN         NaN   \n",
      "105338                                          NaN         NaN         NaN   \n",
      "\n",
      "        Unnamed: 5  Unnamed: 6  userId  movieId.1  rating   timestamp  \n",
      "0              NaN         NaN       1         16     4.0  1217897793  \n",
      "1              NaN         NaN       1         24     1.5  1217895807  \n",
      "2              NaN         NaN       1         32     4.0  1217896246  \n",
      "3              NaN         NaN       1         47     4.0  1217896556  \n",
      "4              NaN         NaN       1         50     4.0  1217896523  \n",
      "...            ...         ...     ...        ...     ...         ...  \n",
      "105334         NaN         NaN     668     142488     4.0  1451535844  \n",
      "105335         NaN         NaN     668     142507     3.5  1451535889  \n",
      "105336         NaN         NaN     668     143385     4.0  1446388585  \n",
      "105337         NaN         NaN     668     144976     2.5  1448656898  \n",
      "105338         NaN         NaN     668     148626     4.5  1451148148  \n",
      "\n",
      "[105339 rows x 11 columns]\n"
     ]
    },
    {
     "name": "stderr",
     "output_type": "stream",
     "text": [
      "C:\\Users\\Sangram\\anaconda3\\lib\\site-packages\\IPython\\core\\interactiveshell.py:3071: DtypeWarning: Columns (1,2) have mixed types.Specify dtype option on import or set low_memory=False.\n",
      "  has_raised = await self.run_ast_nodes(code_ast.body, cell_name,\n"
     ]
    }
   ],
   "source": [
    "dataset = pd.read_csv(r'C:\\Users\\Sangram\\Downloads\\IMDB-Dataset\\movies.csv')\n",
    "print (dataset)"
   ]
  },
  {
   "cell_type": "code",
   "execution_count": null,
   "metadata": {},
   "outputs": [],
   "source": []
  }
 ],
 "metadata": {
  "kernelspec": {
   "display_name": "Python 3",
   "language": "python",
   "name": "python3"
  },
  "language_info": {
   "codemirror_mode": {
    "name": "ipython",
    "version": 3
   },
   "file_extension": ".py",
   "mimetype": "text/x-python",
   "name": "python",
   "nbconvert_exporter": "python",
   "pygments_lexer": "ipython3",
   "version": "3.8.3"
  }
 },
 "nbformat": 4,
 "nbformat_minor": 4
}
